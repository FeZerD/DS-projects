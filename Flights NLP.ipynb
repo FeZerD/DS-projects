{
 "cells": [
  {
   "cell_type": "code",
   "execution_count": 12,
   "id": "f2a0f527-f965-4e5f-90b5-279936f7388c",
   "metadata": {},
   "outputs": [],
   "source": [
    "# Cell 1: Import required libraries and download NLTK resources\n",
    "import pandas as pd\n",
    "import numpy as np\n",
    "from nltk.tokenize import word_tokenize\n",
    "from nltk.corpus import stopwords\n",
    "from nltk.stem import WordNetLemmatizer\n",
    "from nltk.sentiment import SentimentIntensityAnalyzer\n",
    "import re\n",
    "from sklearn.model_selection import train_test_split\n",
    "from sklearn.feature_extraction.text import TfidfVectorizer\n",
    "from sklearn.ensemble import RandomForestClassifier\n",
    "from sklearn.metrics import classification_report\n",
    "import matplotlib.pyplot as plt\n",
    "import seaborn as sns\n",
    "import nltk"
   ]
  },
  {
   "cell_type": "code",
   "execution_count": 13,
   "id": "5e23a808-c3ab-4b42-a432-5acececda543",
   "metadata": {},
   "outputs": [
    {
     "name": "stdout",
     "output_type": "stream",
     "text": [
      "Downloading required NLTK resources...\n",
      "✓ Successfully downloaded punkt\n",
      "✓ Successfully downloaded stopwords\n",
      "✓ Successfully downloaded wordnet\n",
      "✓ Successfully downloaded vader_lexicon\n",
      "✓ Successfully downloaded averaged_perceptron_tagger\n"
     ]
    }
   ],
   "source": [
    "# Download all required NLTK resources\n",
    "print(\"Downloading required NLTK resources...\")\n",
    "resources = ['punkt', 'stopwords', 'wordnet', 'vader_lexicon', 'averaged_perceptron_tagger']\n",
    "for resource in resources:\n",
    "    try:\n",
    "        nltk.download(resource, quiet=True)\n",
    "        print(f\"✓ Successfully downloaded {resource}\")\n",
    "    except Exception as e:\n",
    "        print(f\"✗ Error downloading {resource}: {str(e)}\")"
   ]
  },
  {
   "cell_type": "code",
   "execution_count": 14,
   "id": "f8b3db84-8ba6-4513-a2e6-4a966f1f0e90",
   "metadata": {},
   "outputs": [
    {
     "name": "stdout",
     "output_type": "stream",
     "text": [
      "Dataset Info:\n",
      "--------------------------------------------------\n",
      "<class 'pandas.core.frame.DataFrame'>\n",
      "RangeIndex: 4840 entries, 0 to 4839\n",
      "Data columns (total 6 columns):\n",
      " #   Column          Non-Null Count  Dtype \n",
      "---  ------          --------------  ----- \n",
      " 0   published_date  4840 non-null   object\n",
      " 1   rating          4840 non-null   int64 \n",
      " 2   type            4840 non-null   object\n",
      " 3   helpful_votes   4840 non-null   int64 \n",
      " 4   title           4840 non-null   object\n",
      " 5   text            4840 non-null   object\n",
      "dtypes: int64(2), object(4)\n",
      "memory usage: 227.0+ KB\n",
      "None\n",
      "\n",
      "Sample Reviews:\n",
      "--------------------------------------------------\n",
      "   rating                                        title  \\\n",
      "0       1              BAD SERVICE AND BAD HOSPITALITY   \n",
      "1       1         AI 188 and AI 187 flight nightmare !   \n",
      "2       1  worst airline to travel dont waste ur money   \n",
      "3       3                         Good, Can be Better!   \n",
      "4       1                   Poor airlines and services   \n",
      "\n",
      "                                                text  \n",
      "0  From their side my baggage is broken but still...  \n",
      "1  I took AI 188 noon -9th March 2024 - it was de...  \n",
      "2  one of worst flight to fly with book one way l...  \n",
      "3  The positive aspects on my flight were: punctu...  \n",
      "4  Extremally poor services in flight, aircraft i...  \n"
     ]
    }
   ],
   "source": [
    "# Cell 2: Load and examine the data\n",
    "# Read the CSV file\n",
    "df = pd.read_csv(\"C:\\\\Users\\\\Bishwash Chhetri\\\\Desktop\\\\ineubytes\\\\air_india_reviews.csv\\\\air_india_reviews.csv\")\n",
    "\n",
    "# Display basic information about the dataset\n",
    "print(\"Dataset Info:\")\n",
    "print(\"-\" * 50)\n",
    "print(df.info())\n",
    "print(\"\\nSample Reviews:\")\n",
    "print(\"-\" * 50)\n",
    "print(df[['rating', 'title', 'text']].head())\n"
   ]
  },
  {
   "cell_type": "code",
   "execution_count": 15,
   "id": "23e7e09d-c4b8-47d4-b1e9-ad686358e4a4",
   "metadata": {},
   "outputs": [],
   "source": [
    "# Cell 3: Define text preprocessing functions\n",
    "def preprocess_text(text, lemmatizer, stop_words):\n",
    "    \"\"\"Clean and preprocess the text data\"\"\"\n",
    "    if not isinstance(text, str):\n",
    "        return \"\"\n",
    "        \n",
    "    # Convert to lowercase\n",
    "    text = text.lower()\n",
    "    \n",
    "    # Remove special characters and numbers\n",
    "    text = re.sub(r'[^a-zA-Z\\s]', '', text)\n",
    "    \n",
    "    # Tokenize\n",
    "    tokens = word_tokenize(text)\n",
    "    \n",
    "    # Remove stopwords and lemmatize\n",
    "    tokens = [lemmatizer.lemmatize(token) for token in tokens \n",
    "             if token not in stop_words]\n",
    "    \n",
    "    return ' '.join(tokens)"
   ]
  },
  {
   "cell_type": "code",
   "execution_count": 17,
   "id": "24dab4e1-2435-4c1e-b31c-a9fde256412c",
   "metadata": {},
   "outputs": [
    {
     "name": "stdout",
     "output_type": "stream",
     "text": [
      "✓ Successfully initialized NLP tools\n"
     ]
    }
   ],
   "source": [
    "# Cell 4: Initialize NLP tools\n",
    "try:\n",
    "    lemmatizer = WordNetLemmatizer()\n",
    "    stop_words = set(stopwords.words('english'))\n",
    "    sia = SentimentIntensityAnalyzer()\n",
    "    print(\"✓ Successfully initialized NLP tools\")\n",
    "except Exception as e:\n",
    "    print(f\"✗ Error initializing NLP tools: {str(e)}\")\n",
    "    raise"
   ]
  },
  {
   "cell_type": "code",
   "execution_count": 18,
   "id": "3ebc97ee-9eb1-4db3-85e6-5ea58402f1d8",
   "metadata": {},
   "outputs": [],
   "source": [
    "# Cell 5: Define sentiment analysis functions\n",
    "def get_vader_sentiment(text):\n",
    "    \"\"\"Get sentiment scores using VADER\"\"\"\n",
    "    scores = sia.polarity_scores(text)\n",
    "    \n",
    "    if scores['compound'] >= 0.05:\n",
    "        return 'positive'\n",
    "    elif scores['compound'] <= -0.05:\n",
    "        return 'negative'\n",
    "    else:\n",
    "        return 'neutral'\n",
    "\n",
    "def get_rating_sentiment(rating):\n",
    "    \"\"\"Convert numerical rating to sentiment category\"\"\"\n",
    "    if rating >= 4:\n",
    "        return 'positive'\n",
    "    elif rating <= 2:\n",
    "        return 'negative'\n",
    "    else:\n",
    "        return 'neutral'"
   ]
  },
  {
   "cell_type": "code",
   "execution_count": 20,
   "id": "4c09b229-584f-4fe0-8ee9-fcb98fe81a37",
   "metadata": {},
   "outputs": [
    {
     "name": "stdout",
     "output_type": "stream",
     "text": [
      "Preprocessing reviews...\n",
      "✓ Text preprocessing complete\n",
      "Analyzing sentiments...\n",
      "✓ Sentiment analysis complete\n"
     ]
    }
   ],
   "source": [
    "# Cell 6: Preprocess the reviews\n",
    "print(\"Preprocessing reviews...\")\n",
    "# Apply text preprocessing\n",
    "df['processed_text'] = df['text'].apply(lambda x: preprocess_text(x, lemmatizer, stop_words))\n",
    "print(\"✓ Text preprocessing complete\")\n",
    "\n",
    "# Get sentiments\n",
    "print(\"Analyzing sentiments...\")\n",
    "df['text_sentiment'] = df['text'].apply(get_vader_sentiment)\n",
    "df['rating_sentiment'] = df['rating'].apply(get_rating_sentiment)\n",
    "print(\"✓ Sentiment analysis complete\")"
   ]
  },
  {
   "cell_type": "code",
   "execution_count": 21,
   "id": "e54d80d3-43d4-4ede-a9b5-75844c93d1c6",
   "metadata": {},
   "outputs": [],
   "source": [
    "# Cell 7: Combine sentiments\n",
    "# Combine both sentiment signals\n",
    "df['final_sentiment'] = df.apply(lambda row: \n",
    "    'positive' if (row['rating_sentiment'] == 'positive' or \n",
    "                  (row['rating_sentiment'] == 'neutral' and row['text_sentiment'] == 'positive'))\n",
    "    else 'negative' if (row['rating_sentiment'] == 'negative' or \n",
    "                       (row['rating_sentiment'] == 'neutral' and row['text_sentiment'] == 'negative'))\n",
    "    else 'neutral', axis=1)"
   ]
  },
  {
   "cell_type": "code",
   "execution_count": 22,
   "id": "f893f335-6700-4fa6-84dc-9f4c171bf3b8",
   "metadata": {},
   "outputs": [
    {
     "name": "stdout",
     "output_type": "stream",
     "text": [
      "\n",
      "Sentiment Distribution:\n",
      "--------------------------------------------------\n",
      "Negative: 2800 reviews (57.9%)\n",
      "Positive: 2017 reviews (41.7%)\n",
      "Neutral: 23 reviews (0.5%)\n"
     ]
    }
   ],
   "source": [
    "# Cell 8: Analyze sentiment distribution\n",
    "# Calculate sentiment statistics\n",
    "sentiment_counts = df['final_sentiment'].value_counts()\n",
    "total_reviews = len(df)\n",
    "\n",
    "print(\"\\nSentiment Distribution:\")\n",
    "print(\"-\" * 50)\n",
    "for sentiment, count in sentiment_counts.items():\n",
    "    percentage = (count/total_reviews) * 100\n",
    "    print(f\"{sentiment.capitalize()}: {count} reviews ({percentage:.1f}%)\")"
   ]
  },
  {
   "cell_type": "code",
   "execution_count": 23,
   "id": "17f656d8-c89e-4066-a43d-6018d271472e",
   "metadata": {},
   "outputs": [
    {
     "data": {
      "image/png": "[encoded data removed]",
      "text/plain": [
       "<Figure size 1200x600 with 1 Axes>"
      ]
     },
     "metadata": {},
     "output_type": "display_data"
    }
   ],
   "source": [
    "# Cell 9: Visualize sentiment distribution\n",
    "plt.figure(figsize=(12, 6))\n",
    "\n",
    "# Plot sentiment distribution\n",
    "sns.barplot(x=sentiment_counts.index, y=sentiment_counts.values)\n",
    "plt.title('Distribution of Sentiments in Air India Reviews')\n",
    "plt.xlabel('Sentiment')\n",
    "plt.ylabel('Count')\n",
    "\n",
    "# Add percentage labels\n",
    "for i, count in enumerate(sentiment_counts):\n",
    "    percentage = count/total_reviews * 100\n",
    "    plt.text(i, count, f'{percentage:.1f}%', ha='center', va='bottom')\n",
    "\n",
    "plt.tight_layout()\n",
    "plt.show()"
   ]
  },
  {
   "cell_type": "code",
   "execution_count": 24,
   "id": "540cbce6-f0a0-4a0d-bd72-c2af48f9d297",
   "metadata": {},
   "outputs": [],
   "source": [
    "# Cell 10: Analyze top terms by sentiment\n",
    "def get_top_terms(df, sentiment, n=10):\n",
    "    \"\"\"Get top terms associated with each sentiment\"\"\"\n",
    "    sentiment_texts = ' '.join(df[df['final_sentiment'] == sentiment]['processed_text'])\n",
    "    vectorizer = TfidfVectorizer(max_features=n)\n",
    "    tfidf_matrix = vectorizer.fit_transform([sentiment_texts])\n",
    "    \n",
    "    feature_names = vectorizer.get_feature_names_out()\n",
    "    tfidf_scores = tfidf_matrix.toarray()[0]\n",
    "    \n",
    "    return sorted(zip(feature_names, tfidf_scores), \n",
    "                 key=lambda x: x[1], reverse=True)"
   ]
  },
  {
   "cell_type": "code",
   "execution_count": 25,
   "id": "823cf6fd-c96e-4ced-9164-dcf9966b8123",
   "metadata": {},
   "outputs": [
    {
     "name": "stdout",
     "output_type": "stream",
     "text": [
      "\n",
      "Top Terms by Sentiment:\n",
      "--------------------------------------------------\n",
      "\n",
      "Top 10 terms in positive reviews:\n",
      "- flight: 0.629\n",
      "- india: 0.365\n",
      "- air: 0.358\n",
      "- good: 0.324\n",
      "- food: 0.249\n",
      "- time: 0.241\n",
      "- service: 0.207\n",
      "- airline: 0.173\n",
      "- seat: 0.162\n",
      "- staff: 0.140\n",
      "\n",
      "Top 10 terms in negative reviews:\n",
      "- flight: 0.638\n",
      "- india: 0.410\n",
      "- air: 0.403\n",
      "- airline: 0.223\n",
      "- hour: 0.208\n",
      "- seat: 0.205\n",
      "- time: 0.201\n",
      "- service: 0.196\n",
      "- staff: 0.163\n",
      "- one: 0.144\n",
      "\n",
      "Top 10 terms in neutral reviews:\n",
      "- flight: 0.690\n",
      "- india: 0.322\n",
      "- food: 0.299\n",
      "- air: 0.253\n",
      "- experience: 0.230\n",
      "- staff: 0.230\n",
      "- good: 0.207\n",
      "- one: 0.207\n",
      "- service: 0.207\n",
      "- time: 0.184\n"
     ]
    }
   ],
   "source": [
    "# Cell 11: Print top terms for each sentiment\n",
    "print(\"\\nTop Terms by Sentiment:\")\n",
    "print(\"-\" * 50)\n",
    "for sentiment in ['positive', 'negative', 'neutral']:\n",
    "    print(f\"\\nTop 10 terms in {sentiment} reviews:\")\n",
    "    top_terms = get_top_terms(df, sentiment, n=10)\n",
    "    for term, score in top_terms:\n",
    "        print(f\"- {term}: {score:.3f}\")"
   ]
  },
  {
   "cell_type": "code",
   "execution_count": 26,
   "id": "5ac480c2-48c0-43ca-bee8-2c3646997034",
   "metadata": {},
   "outputs": [],
   "source": [
    "# Cell 12: Save results (optional)\n",
    "# Save processed data to CSV\n",
    "df.to_csv('air_india_reviews_with_sentiment.csv', index=False)"
   ]
  },
  {
   "cell_type": "code",
   "execution_count": 30,
   "id": "b1c93a34-5343-413e-9e4e-c3870951c928",
   "metadata": {},
   "outputs": [],
   "source": [
    "# Cell 13: Function to display a random review with simple sentiment\n",
    "def show_random_review():\n",
    "    \"\"\"Display a random review with its sentiment\"\"\"\n",
    "    review = df.sample(n=1).iloc[0]\n",
    "    print(f\"Review: {review['text']}\")\n",
    "    print(f\"Sentiment: {review['final_sentiment']}\")"
   ]
  },
  {
   "cell_type": "code",
   "execution_count": 33,
   "id": "f50fda4f-ff15-4f02-8a62-34916cc5cf0e",
   "metadata": {},
   "outputs": [
    {
     "name": "stdout",
     "output_type": "stream",
     "text": [
      "Review: Horrible cabin staff service, \n",
      "Don't know how to talk & behave to passenger.\n",
      "Showing his anger, Not answer properly if ask anything.\n",
      "Sentiment: negative\n"
     ]
    }
   ],
   "source": [
    "show_random_review()"
   ]
  },
  {
   "cell_type": "code",
   "execution_count": null,
   "id": "90941f53-a915-43d6-811a-00803d3878f2",
   "metadata": {},
   "outputs": [],
   "source": []
  },
  {
   "cell_type": "code",
   "execution_count": null,
   "id": "d27829cd-4ed6-4264-a3c0-52cf85de7c79",
   "metadata": {},
   "outputs": [],
   "source": []
  }
 ],
 "metadata": {
  "kernelspec": {
   "display_name": "Python 3 (ipykernel)",
   "language": "python",
   "name": "python3"
  },
  "language_info": {
   "codemirror_mode": {
    "name": "ipython",
    "version": 3
   },
   "file_extension": ".py",
   "mimetype": "text/x-python",
   "name": "python",
   "nbconvert_exporter": "python",
   "pygments_lexer": "ipython3",
   "version": "3.11.7"
  }
 },
 "nbformat": 4,
 "nbformat_minor": 5
}
